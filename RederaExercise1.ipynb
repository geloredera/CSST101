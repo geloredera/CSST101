{
  "cells": [
    {
      "cell_type": "markdown",
      "metadata": {
        "id": "Yaxj3Bej1XDN"
      },
      "source": [
        "# Exercise 1:Introduction to Probability Theory in AI\n"
      ]
    },
    {
      "cell_type": "code",
      "execution_count": null,
      "metadata": {
        "colab": {
          "base_uri": "https://localhost:8080/"
        },
        "id": "raU7g-jPyMws",
        "outputId": "e8eacd33-da6f-423f-e180-b805c5a6286c"
      },
      "outputs": [
        {
          "name": "stdout",
          "output_type": "stream",
          "text": [
            "Joint Probabilty: 0.18\n",
            "Marginal Probabilty: 0.72\n",
            "Conditional Probabilty: 0.2\n"
          ]
        }
      ],
      "source": [
        "def joint_probability(p_A, p_B):\n",
        "  return p_A * p_B\n",
        "\n",
        "def marginal_probability(p_A, p_B):\n",
        "   return p_A + p_B - joint_probability(p_A, p_B)\n",
        "\n",
        "def conditional_probability(p_8_given_A, p_A, p_B):\n",
        "  return (p_8_given_A * p_A) / p_B\n",
        "p_A = 0.3\n",
        "p_B = 0.4\n",
        "p_8_given_A = 0.4\n",
        "\n",
        "print(f\"Joint Probabilty: {joint_probability(p_A, p_B)}\")\n",
        "print(f\"Marginal Probabilty: {marginal_probability(p_A, p_B)}\")\n",
        "print(f\"Conditional Probabilty: {conditional_probability(p_8_given_A, p_A, p_B)}\")"
      ]
    },
    {
      "cell_type": "markdown",
      "metadata": {
        "id": "KCN_VD_m1V7c"
      },
      "source": [
        "# Exercise 2: Decision-Making Under Uncertainty"
      ]
    },
    {
      "cell_type": "code",
      "execution_count": null,
      "metadata": {
        "colab": {
          "background_save": true
        },
        "id": "-yjTJeAm2D3u"
      },
      "outputs": [],
      "source": [
        "import numpy as np"
      ]
    },
    {
      "cell_type": "code",
      "execution_count": null,
      "metadata": {
        "colab": {
          "base_uri": "https://localhost:8080/"
        },
        "id": "GZeb8Qg12JFN",
        "outputId": "3513147e-3e61-4139-af34-392ea6782dfb"
      },
      "outputs": [
        {
          "output_type": "stream",
          "name": "stdout",
          "text": [
            "Expected value of decision:520.0\n"
          ]
        }
      ],
      "source": [
        "def simulate_decision(num_simulations, p_success, reward_success, reward_failure):\n",
        "  outcomes = [] # Changed '-' to '=' to assign an empty list to outcomes\n",
        "  for _ in range(num_simulations):\n",
        "      if np.random.rand() < p_success:\n",
        "        outcomes.append(reward_success)\n",
        "      else:\n",
        "          outcomes.append(reward_failure)\n",
        "  return np.mean(outcomes) # Moved return statement outside the for loop\n",
        "\n",
        "p_success = 0.7\n",
        "reward_success = 1000\n",
        "reward_failure = -500\n",
        "\n",
        "average_outcome = simulate_decision(1000,p_success, reward_success, reward_failure) # Changed '-' to '=' to assign the result to average_outcome\n",
        "print(f\"Expected value of decision:{average_outcome}\")"
      ]
    },
    {
      "cell_type": "markdown",
      "source": [
        "# Exercise 3:Applying Probability Theory in AI for Diagnosis"
      ],
      "metadata": {
        "id": "CnAQbAmUbbJq"
      }
    },
    {
      "cell_type": "code",
      "source": [
        "def bayesian_inference(prior, likelihood_positive_given_disease, likelihood_positive): # Corrected typo in function name\n",
        "  posterior = (likelihood_positive_given_disease * prior) / likelihood_positive\n",
        "  return posterior\n",
        "\n",
        "prior_disease = 0.1\n",
        "likelihood_positive_given_disease = 0.9\n",
        "likelihood_postive = 0.5\n",
        "\n",
        "posterior_disease = bayesian_inference(prior_disease, likelihood_positive_given_disease, likelihood_postive) # Corrected typo in function name and used '=' for assignment.\n",
        "print(f\"Posterior probability of disease given positive test: {posterior_disease}\")"
      ],
      "metadata": {
        "id": "EDW1yq4YcKgu",
        "colab": {
          "base_uri": "https://localhost:8080/"
        },
        "outputId": "22815229-c73a-4ba8-ff06-752aa5a3ea44"
      },
      "execution_count": null,
      "outputs": [
        {
          "output_type": "stream",
          "name": "stdout",
          "text": [
            "Posterior probability of disease given positive test: 0.18000000000000002\n"
          ]
        }
      ]
    },
    {
      "cell_type": "markdown",
      "source": [
        "# Exercise 4:Probability Distribution in AI\n"
      ],
      "metadata": {
        "id": "mp8zjQxHdnSa"
      }
    },
    {
      "cell_type": "code",
      "source": [
        "import numpy as np\n",
        "import matplotlib.pyplot as plt"
      ],
      "metadata": {
        "id": "z7mBUoHbdvah"
      },
      "execution_count": null,
      "outputs": []
    },
    {
      "cell_type": "code",
      "source": [
        "n_trials = 1000\n",
        "p_head = 0.5\n",
        "binomial_distribution = np.random.binomial(n=1, p=p_head, size=n_trials) # Fixed spelling error: binomials -> binomial"
      ],
      "metadata": {
        "id": "chY3uiRod1_G"
      },
      "execution_count": null,
      "outputs": []
    },
    {
      "cell_type": "code",
      "source": [
        "plt.hist(binomial_distribution, bins=2)\n",
        "plt.title('Binomial Distribution (Coin Flips)')\n",
        "plt.show()"
      ],
      "metadata": {
        "id": "F9nW2yePeu2Z",
        "colab": {
          "base_uri": "https://localhost:8080/",
          "height": 452
        },
        "outputId": "90188431-0b08-4491-d78d-f8abcfa19905"
      },
      "execution_count": null,
      "outputs": [
        {
          "output_type": "display_data",
          "data": {
            "text/plain": [
              "<Figure size 640x480 with 1 Axes>"
            ],
            "image/png": "[encoded data removed]"
          },
          "metadata": {}
        }
      ]
    },
    {
      "cell_type": "markdown",
      "source": [
        "# Exercise 5: Real-World Application of Probability in AI"
      ],
      "metadata": {
        "id": "qQqCUHv6fjWQ"
      }
    },
    {
      "cell_type": "code",
      "source": [
        "p_purchse_given_cart = 0.4\n",
        "p_cart = 0.3\n",
        "\n",
        "# assign the result of the function call to p_purchase\n",
        "p_purchase = p_purchse_given_cart * p_cart # This is how you calculate the probability of purchase\n",
        "print(f\"Probality of purchase:{p_purchase}\")"
      ],
      "metadata": {
        "id": "aV8ugiFXfyNH",
        "colab": {
          "base_uri": "https://localhost:8080/"
        },
        "outputId": "8cf2505c-cc68-463b-9c76-cdb7d0caacc6"
      },
      "execution_count": null,
      "outputs": [
        {
          "output_type": "stream",
          "name": "stdout",
          "text": [
            "Probality of purchase:0.12\n"
          ]
        }
      ]
    }
  ],
  "metadata": {
    "colab": {
      "provenance": []
    },
    "kernelspec": {
      "display_name": "Python 3",
      "name": "python3"
    },
    "language_info": {
      "name": "python"
    }
  },
  "nbformat": 4,
  "nbformat_minor": 0
}