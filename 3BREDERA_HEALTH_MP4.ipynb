{
  "nbformat": 4,
  "nbformat_minor": 0,
  "metadata": {
    "colab": {
      "provenance": []
    },
    "kernelspec": {
      "name": "python3",
      "display_name": "Python 3"
    },
    "language_info": {
      "name": "python"
    }
  },
  "cells": [
    {
      "cell_type": "markdown",
      "source": [
        "# Exercise 1: Setting Up the Environment"
      ],
      "metadata": {
        "id": "GtmrUmFpcDAZ"
      }
    },
    {
      "cell_type": "markdown",
      "source": [
        "1. Install Libraries:"
      ],
      "metadata": {
        "id": "Yj1DAaG_cQrB"
      }
    },
    {
      "cell_type": "code",
      "execution_count": null,
      "metadata": {
        "colab": {
          "base_uri": "https://localhost:8080/"
        },
        "id": "wqvNr_7Zb4D0",
        "outputId": "21894204-88cc-4f17-d13e-7c0236901f13"
      },
      "outputs": [
        {
          "output_type": "stream",
          "name": "stdout",
          "text": [
            "Requirement already satisfied: pgmpy in /usr/local/lib/python3.10/dist-packages (0.1.26)\n",
            "Requirement already satisfied: pandas in /usr/local/lib/python3.10/dist-packages (2.1.4)\n",
            "Requirement already satisfied: networkx in /usr/local/lib/python3.10/dist-packages (3.3)\n",
            "Requirement already satisfied: matplotlib in /usr/local/lib/python3.10/dist-packages (3.7.1)\n",
            "Requirement already satisfied: numpy in /usr/local/lib/python3.10/dist-packages (from pgmpy) (1.26.4)\n",
            "Requirement already satisfied: scipy in /usr/local/lib/python3.10/dist-packages (from pgmpy) (1.13.1)\n",
            "Requirement already satisfied: scikit-learn in /usr/local/lib/python3.10/dist-packages (from pgmpy) (1.5.2)\n",
            "Requirement already satisfied: pyparsing in /usr/local/lib/python3.10/dist-packages (from pgmpy) (3.1.4)\n",
            "Requirement already satisfied: torch in /usr/local/lib/python3.10/dist-packages (from pgmpy) (2.4.1+cu121)\n",
            "Requirement already satisfied: statsmodels in /usr/local/lib/python3.10/dist-packages (from pgmpy) (0.14.3)\n",
            "Requirement already satisfied: tqdm in /usr/local/lib/python3.10/dist-packages (from pgmpy) (4.66.5)\n",
            "Requirement already satisfied: joblib in /usr/local/lib/python3.10/dist-packages (from pgmpy) (1.4.2)\n",
            "Requirement already satisfied: opt-einsum in /usr/local/lib/python3.10/dist-packages (from pgmpy) (3.3.0)\n",
            "Requirement already satisfied: xgboost in /usr/local/lib/python3.10/dist-packages (from pgmpy) (2.1.1)\n",
            "Requirement already satisfied: google-generativeai in /usr/local/lib/python3.10/dist-packages (from pgmpy) (0.7.2)\n",
            "Requirement already satisfied: python-dateutil>=2.8.2 in /usr/local/lib/python3.10/dist-packages (from pandas) (2.8.2)\n",
            "Requirement already satisfied: pytz>=2020.1 in /usr/local/lib/python3.10/dist-packages (from pandas) (2024.2)\n",
            "Requirement already satisfied: tzdata>=2022.1 in /usr/local/lib/python3.10/dist-packages (from pandas) (2024.1)\n",
            "Requirement already satisfied: contourpy>=1.0.1 in /usr/local/lib/python3.10/dist-packages (from matplotlib) (1.3.0)\n",
            "Requirement already satisfied: cycler>=0.10 in /usr/local/lib/python3.10/dist-packages (from matplotlib) (0.12.1)\n",
            "Requirement already satisfied: fonttools>=4.22.0 in /usr/local/lib/python3.10/dist-packages (from matplotlib) (4.53.1)\n",
            "Requirement already satisfied: kiwisolver>=1.0.1 in /usr/local/lib/python3.10/dist-packages (from matplotlib) (1.4.7)\n",
            "Requirement already satisfied: packaging>=20.0 in /usr/local/lib/python3.10/dist-packages (from matplotlib) (24.1)\n",
            "Requirement already satisfied: pillow>=6.2.0 in /usr/local/lib/python3.10/dist-packages (from matplotlib) (10.4.0)\n",
            "Requirement already satisfied: six>=1.5 in /usr/local/lib/python3.10/dist-packages (from python-dateutil>=2.8.2->pandas) (1.16.0)\n",
            "Requirement already satisfied: google-ai-generativelanguage==0.6.6 in /usr/local/lib/python3.10/dist-packages (from google-generativeai->pgmpy) (0.6.6)\n",
            "Requirement already satisfied: google-api-core in /usr/local/lib/python3.10/dist-packages (from google-generativeai->pgmpy) (2.19.2)\n",
            "Requirement already satisfied: google-api-python-client in /usr/local/lib/python3.10/dist-packages (from google-generativeai->pgmpy) (2.137.0)\n",
            "Requirement already satisfied: google-auth>=2.15.0 in /usr/local/lib/python3.10/dist-packages (from google-generativeai->pgmpy) (2.27.0)\n",
            "Requirement already satisfied: protobuf in /usr/local/lib/python3.10/dist-packages (from google-generativeai->pgmpy) (3.20.3)\n",
            "Requirement already satisfied: pydantic in /usr/local/lib/python3.10/dist-packages (from google-generativeai->pgmpy) (2.9.2)\n",
            "Requirement already satisfied: typing-extensions in /usr/local/lib/python3.10/dist-packages (from google-generativeai->pgmpy) (4.12.2)\n",
            "Requirement already satisfied: proto-plus<2.0.0dev,>=1.22.3 in /usr/local/lib/python3.10/dist-packages (from google-ai-generativelanguage==0.6.6->google-generativeai->pgmpy) (1.24.0)\n",
            "Requirement already satisfied: threadpoolctl>=3.1.0 in /usr/local/lib/python3.10/dist-packages (from scikit-learn->pgmpy) (3.5.0)\n",
            "Requirement already satisfied: patsy>=0.5.6 in /usr/local/lib/python3.10/dist-packages (from statsmodels->pgmpy) (0.5.6)\n",
            "Requirement already satisfied: filelock in /usr/local/lib/python3.10/dist-packages (from torch->pgmpy) (3.16.1)\n",
            "Requirement already satisfied: sympy in /usr/local/lib/python3.10/dist-packages (from torch->pgmpy) (1.13.3)\n",
            "Requirement already satisfied: jinja2 in /usr/local/lib/python3.10/dist-packages (from torch->pgmpy) (3.1.4)\n",
            "Requirement already satisfied: fsspec in /usr/local/lib/python3.10/dist-packages (from torch->pgmpy) (2024.6.1)\n",
            "Requirement already satisfied: nvidia-nccl-cu12 in /usr/local/lib/python3.10/dist-packages (from xgboost->pgmpy) (2.23.4)\n",
            "Requirement already satisfied: googleapis-common-protos<2.0.dev0,>=1.56.2 in /usr/local/lib/python3.10/dist-packages (from google-api-core->google-generativeai->pgmpy) (1.65.0)\n",
            "Requirement already satisfied: requests<3.0.0.dev0,>=2.18.0 in /usr/local/lib/python3.10/dist-packages (from google-api-core->google-generativeai->pgmpy) (2.32.3)\n",
            "Requirement already satisfied: cachetools<6.0,>=2.0.0 in /usr/local/lib/python3.10/dist-packages (from google-auth>=2.15.0->google-generativeai->pgmpy) (5.5.0)\n",
            "Requirement already satisfied: pyasn1-modules>=0.2.1 in /usr/local/lib/python3.10/dist-packages (from google-auth>=2.15.0->google-generativeai->pgmpy) (0.4.1)\n",
            "Requirement already satisfied: rsa<5,>=3.1.4 in /usr/local/lib/python3.10/dist-packages (from google-auth>=2.15.0->google-generativeai->pgmpy) (4.9)\n",
            "Requirement already satisfied: httplib2<1.dev0,>=0.19.0 in /usr/local/lib/python3.10/dist-packages (from google-api-python-client->google-generativeai->pgmpy) (0.22.0)\n",
            "Requirement already satisfied: google-auth-httplib2<1.0.0,>=0.2.0 in /usr/local/lib/python3.10/dist-packages (from google-api-python-client->google-generativeai->pgmpy) (0.2.0)\n",
            "Requirement already satisfied: uritemplate<5,>=3.0.1 in /usr/local/lib/python3.10/dist-packages (from google-api-python-client->google-generativeai->pgmpy) (4.1.1)\n",
            "Requirement already satisfied: MarkupSafe>=2.0 in /usr/local/lib/python3.10/dist-packages (from jinja2->torch->pgmpy) (2.1.5)\n",
            "Requirement already satisfied: annotated-types>=0.6.0 in /usr/local/lib/python3.10/dist-packages (from pydantic->google-generativeai->pgmpy) (0.7.0)\n",
            "Requirement already satisfied: pydantic-core==2.23.4 in /usr/local/lib/python3.10/dist-packages (from pydantic->google-generativeai->pgmpy) (2.23.4)\n",
            "Requirement already satisfied: mpmath<1.4,>=1.1.0 in /usr/local/lib/python3.10/dist-packages (from sympy->torch->pgmpy) (1.3.0)\n",
            "Requirement already satisfied: grpcio<2.0dev,>=1.33.2 in /usr/local/lib/python3.10/dist-packages (from google-api-core[grpc]!=2.0.*,!=2.1.*,!=2.10.*,!=2.2.*,!=2.3.*,!=2.4.*,!=2.5.*,!=2.6.*,!=2.7.*,!=2.8.*,!=2.9.*,<3.0.0dev,>=1.34.1->google-ai-generativelanguage==0.6.6->google-generativeai->pgmpy) (1.64.1)\n",
            "Requirement already satisfied: grpcio-status<2.0.dev0,>=1.33.2 in /usr/local/lib/python3.10/dist-packages (from google-api-core[grpc]!=2.0.*,!=2.1.*,!=2.10.*,!=2.2.*,!=2.3.*,!=2.4.*,!=2.5.*,!=2.6.*,!=2.7.*,!=2.8.*,!=2.9.*,<3.0.0dev,>=1.34.1->google-ai-generativelanguage==0.6.6->google-generativeai->pgmpy) (1.48.2)\n",
            "Requirement already satisfied: pyasn1<0.7.0,>=0.4.6 in /usr/local/lib/python3.10/dist-packages (from pyasn1-modules>=0.2.1->google-auth>=2.15.0->google-generativeai->pgmpy) (0.6.1)\n",
            "Requirement already satisfied: charset-normalizer<4,>=2 in /usr/local/lib/python3.10/dist-packages (from requests<3.0.0.dev0,>=2.18.0->google-api-core->google-generativeai->pgmpy) (3.3.2)\n",
            "Requirement already satisfied: idna<4,>=2.5 in /usr/local/lib/python3.10/dist-packages (from requests<3.0.0.dev0,>=2.18.0->google-api-core->google-generativeai->pgmpy) (3.10)\n",
            "Requirement already satisfied: urllib3<3,>=1.21.1 in /usr/local/lib/python3.10/dist-packages (from requests<3.0.0.dev0,>=2.18.0->google-api-core->google-generativeai->pgmpy) (2.2.3)\n",
            "Requirement already satisfied: certifi>=2017.4.17 in /usr/local/lib/python3.10/dist-packages (from requests<3.0.0.dev0,>=2.18.0->google-api-core->google-generativeai->pgmpy) (2024.8.30)\n",
            "Requirement already satisfied: pgmpy in /usr/local/lib/python3.10/dist-packages (0.1.26)\n",
            "Requirement already satisfied: networkx in /usr/local/lib/python3.10/dist-packages (from pgmpy) (3.3)\n",
            "Requirement already satisfied: numpy in /usr/local/lib/python3.10/dist-packages (from pgmpy) (1.26.4)\n",
            "Requirement already satisfied: scipy in /usr/local/lib/python3.10/dist-packages (from pgmpy) (1.13.1)\n",
            "Requirement already satisfied: scikit-learn in /usr/local/lib/python3.10/dist-packages (from pgmpy) (1.5.2)\n",
            "Requirement already satisfied: pandas in /usr/local/lib/python3.10/dist-packages (from pgmpy) (2.1.4)\n",
            "Requirement already satisfied: pyparsing in /usr/local/lib/python3.10/dist-packages (from pgmpy) (3.1.4)\n",
            "Requirement already satisfied: torch in /usr/local/lib/python3.10/dist-packages (from pgmpy) (2.4.1+cu121)\n",
            "Requirement already satisfied: statsmodels in /usr/local/lib/python3.10/dist-packages (from pgmpy) (0.14.3)\n",
            "Requirement already satisfied: tqdm in /usr/local/lib/python3.10/dist-packages (from pgmpy) (4.66.5)\n",
            "Requirement already satisfied: joblib in /usr/local/lib/python3.10/dist-packages (from pgmpy) (1.4.2)\n",
            "Requirement already satisfied: opt-einsum in /usr/local/lib/python3.10/dist-packages (from pgmpy) (3.3.0)\n",
            "Requirement already satisfied: xgboost in /usr/local/lib/python3.10/dist-packages (from pgmpy) (2.1.1)\n",
            "Requirement already satisfied: google-generativeai in /usr/local/lib/python3.10/dist-packages (from pgmpy) (0.7.2)\n",
            "Requirement already satisfied: google-ai-generativelanguage==0.6.6 in /usr/local/lib/python3.10/dist-packages (from google-generativeai->pgmpy) (0.6.6)\n",
            "Requirement already satisfied: google-api-core in /usr/local/lib/python3.10/dist-packages (from google-generativeai->pgmpy) (2.19.2)\n",
            "Requirement already satisfied: google-api-python-client in /usr/local/lib/python3.10/dist-packages (from google-generativeai->pgmpy) (2.137.0)\n",
            "Requirement already satisfied: google-auth>=2.15.0 in /usr/local/lib/python3.10/dist-packages (from google-generativeai->pgmpy) (2.27.0)\n",
            "Requirement already satisfied: protobuf in /usr/local/lib/python3.10/dist-packages (from google-generativeai->pgmpy) (3.20.3)\n",
            "Requirement already satisfied: pydantic in /usr/local/lib/python3.10/dist-packages (from google-generativeai->pgmpy) (2.9.2)\n",
            "Requirement already satisfied: typing-extensions in /usr/local/lib/python3.10/dist-packages (from google-generativeai->pgmpy) (4.12.2)\n",
            "Requirement already satisfied: proto-plus<2.0.0dev,>=1.22.3 in /usr/local/lib/python3.10/dist-packages (from google-ai-generativelanguage==0.6.6->google-generativeai->pgmpy) (1.24.0)\n",
            "Requirement already satisfied: python-dateutil>=2.8.2 in /usr/local/lib/python3.10/dist-packages (from pandas->pgmpy) (2.8.2)\n",
            "Requirement already satisfied: pytz>=2020.1 in /usr/local/lib/python3.10/dist-packages (from pandas->pgmpy) (2024.2)\n",
            "Requirement already satisfied: tzdata>=2022.1 in /usr/local/lib/python3.10/dist-packages (from pandas->pgmpy) (2024.1)\n",
            "Requirement already satisfied: threadpoolctl>=3.1.0 in /usr/local/lib/python3.10/dist-packages (from scikit-learn->pgmpy) (3.5.0)\n",
            "Requirement already satisfied: patsy>=0.5.6 in /usr/local/lib/python3.10/dist-packages (from statsmodels->pgmpy) (0.5.6)\n",
            "Requirement already satisfied: packaging>=21.3 in /usr/local/lib/python3.10/dist-packages (from statsmodels->pgmpy) (24.1)\n",
            "Requirement already satisfied: filelock in /usr/local/lib/python3.10/dist-packages (from torch->pgmpy) (3.16.1)\n",
            "Requirement already satisfied: sympy in /usr/local/lib/python3.10/dist-packages (from torch->pgmpy) (1.13.3)\n",
            "Requirement already satisfied: jinja2 in /usr/local/lib/python3.10/dist-packages (from torch->pgmpy) (3.1.4)\n",
            "Requirement already satisfied: fsspec in /usr/local/lib/python3.10/dist-packages (from torch->pgmpy) (2024.6.1)\n",
            "Requirement already satisfied: nvidia-nccl-cu12 in /usr/local/lib/python3.10/dist-packages (from xgboost->pgmpy) (2.23.4)\n",
            "Requirement already satisfied: googleapis-common-protos<2.0.dev0,>=1.56.2 in /usr/local/lib/python3.10/dist-packages (from google-api-core->google-generativeai->pgmpy) (1.65.0)\n",
            "Requirement already satisfied: requests<3.0.0.dev0,>=2.18.0 in /usr/local/lib/python3.10/dist-packages (from google-api-core->google-generativeai->pgmpy) (2.32.3)\n",
            "Requirement already satisfied: cachetools<6.0,>=2.0.0 in /usr/local/lib/python3.10/dist-packages (from google-auth>=2.15.0->google-generativeai->pgmpy) (5.5.0)\n",
            "Requirement already satisfied: pyasn1-modules>=0.2.1 in /usr/local/lib/python3.10/dist-packages (from google-auth>=2.15.0->google-generativeai->pgmpy) (0.4.1)\n",
            "Requirement already satisfied: rsa<5,>=3.1.4 in /usr/local/lib/python3.10/dist-packages (from google-auth>=2.15.0->google-generativeai->pgmpy) (4.9)\n",
            "Requirement already satisfied: six in /usr/local/lib/python3.10/dist-packages (from patsy>=0.5.6->statsmodels->pgmpy) (1.16.0)\n",
            "Requirement already satisfied: httplib2<1.dev0,>=0.19.0 in /usr/local/lib/python3.10/dist-packages (from google-api-python-client->google-generativeai->pgmpy) (0.22.0)\n",
            "Requirement already satisfied: google-auth-httplib2<1.0.0,>=0.2.0 in /usr/local/lib/python3.10/dist-packages (from google-api-python-client->google-generativeai->pgmpy) (0.2.0)\n",
            "Requirement already satisfied: uritemplate<5,>=3.0.1 in /usr/local/lib/python3.10/dist-packages (from google-api-python-client->google-generativeai->pgmpy) (4.1.1)\n",
            "Requirement already satisfied: MarkupSafe>=2.0 in /usr/local/lib/python3.10/dist-packages (from jinja2->torch->pgmpy) (2.1.5)\n",
            "Requirement already satisfied: annotated-types>=0.6.0 in /usr/local/lib/python3.10/dist-packages (from pydantic->google-generativeai->pgmpy) (0.7.0)\n",
            "Requirement already satisfied: pydantic-core==2.23.4 in /usr/local/lib/python3.10/dist-packages (from pydantic->google-generativeai->pgmpy) (2.23.4)\n",
            "Requirement already satisfied: mpmath<1.4,>=1.1.0 in /usr/local/lib/python3.10/dist-packages (from sympy->torch->pgmpy) (1.3.0)\n",
            "Requirement already satisfied: grpcio<2.0dev,>=1.33.2 in /usr/local/lib/python3.10/dist-packages (from google-api-core[grpc]!=2.0.*,!=2.1.*,!=2.10.*,!=2.2.*,!=2.3.*,!=2.4.*,!=2.5.*,!=2.6.*,!=2.7.*,!=2.8.*,!=2.9.*,<3.0.0dev,>=1.34.1->google-ai-generativelanguage==0.6.6->google-generativeai->pgmpy) (1.64.1)\n",
            "Requirement already satisfied: grpcio-status<2.0.dev0,>=1.33.2 in /usr/local/lib/python3.10/dist-packages (from google-api-core[grpc]!=2.0.*,!=2.1.*,!=2.10.*,!=2.2.*,!=2.3.*,!=2.4.*,!=2.5.*,!=2.6.*,!=2.7.*,!=2.8.*,!=2.9.*,<3.0.0dev,>=1.34.1->google-ai-generativelanguage==0.6.6->google-generativeai->pgmpy) (1.48.2)\n",
            "Requirement already satisfied: pyasn1<0.7.0,>=0.4.6 in /usr/local/lib/python3.10/dist-packages (from pyasn1-modules>=0.2.1->google-auth>=2.15.0->google-generativeai->pgmpy) (0.6.1)\n",
            "Requirement already satisfied: charset-normalizer<4,>=2 in /usr/local/lib/python3.10/dist-packages (from requests<3.0.0.dev0,>=2.18.0->google-api-core->google-generativeai->pgmpy) (3.3.2)\n",
            "Requirement already satisfied: idna<4,>=2.5 in /usr/local/lib/python3.10/dist-packages (from requests<3.0.0.dev0,>=2.18.0->google-api-core->google-generativeai->pgmpy) (3.10)\n",
            "Requirement already satisfied: urllib3<3,>=1.21.1 in /usr/local/lib/python3.10/dist-packages (from requests<3.0.0.dev0,>=2.18.0->google-api-core->google-generativeai->pgmpy) (2.2.3)\n",
            "Requirement already satisfied: certifi>=2017.4.17 in /usr/local/lib/python3.10/dist-packages (from requests<3.0.0.dev0,>=2.18.0->google-api-core->google-generativeai->pgmpy) (2024.8.30)\n",
            "Requirement already satisfied: networkx in /usr/local/lib/python3.10/dist-packages (3.3)\n"
          ]
        }
      ],
      "source": [
        "!pip install pgmpy pandas networkx matplotlib\n",
        "!pip install pgmpy\n",
        "!pip install networkx"
      ]
    },
    {
      "cell_type": "markdown",
      "source": [
        " 2. Import Libraries:\n",
        "\n"
      ],
      "metadata": {
        "id": "jHnH1ByzcBpk"
      }
    },
    {
      "cell_type": "code",
      "source": [
        "import pandas as pd\n",
        "import networkx as nx\n",
        "import matplotlib.pyplot as plt\n",
        "from pgmpy.models import BayesianNetwork\n",
        "from pgmpy.inference import VariableElimination\n",
        "from pgmpy.factors.discrete import TabularCPD"
      ],
      "metadata": {
        "id": "H6mrDY3McAkF"
      },
      "execution_count": null,
      "outputs": []
    },
    {
      "cell_type": "markdown",
      "source": [
        "# Exercise 2: Define the Bayesian Network Structure\n"
      ],
      "metadata": {
        "id": "kb3epHjVceIh"
      }
    },
    {
      "cell_type": "markdown",
      "source": [
        "1. Define the Variables:\n",
        "2. Define the Relationships:"
      ],
      "metadata": {
        "id": "sDxOzSVRdDFa"
      }
    },
    {
      "cell_type": "code",
      "source": [
        "from pgmpy.models import BayesianNetwork\n",
        "\n",
        "# Define the structure of the Bayesian Network\n",
        "model = BayesianNetwork([\n",
        "    ('Age', 'Heart Disease'),\n",
        "    ('Smoking', 'Heart Disease'),\n",
        "    ('Exercise', 'Heart Disease'),\n",
        "    ('Cholesterol', 'Heart Disease'),\n",
        "    ('Blood Pressure', 'Heart Disease'),\n",
        "    ('Heart Disease', 'Chest Pain'),\n",
        "    ('Heart Disease', 'ECG Result')\n",
        "])\n",
        "\n",
        "# Verify the model structure\n",
        "print(\"Model structure defined successfully.\")"
      ],
      "metadata": {
        "colab": {
          "base_uri": "https://localhost:8080/"
        },
        "id": "HpOhkswBc17c",
        "outputId": "3dba8f90-5324-46ce-fb00-8eedf8f87b90"
      },
      "execution_count": null,
      "outputs": [
        {
          "output_type": "stream",
          "name": "stdout",
          "text": [
            "Model structure defined successfully.\n"
          ]
        }
      ]
    },
    {
      "cell_type": "markdown",
      "source": [
        "# Exercise 3: Define Conditional Probability Tables (CPTs)\n"
      ],
      "metadata": {
        "id": "v_fbe_FKdQVN"
      }
    },
    {
      "cell_type": "markdown",
      "source": [
        "1. Create CPTs Using pgmpy:\n",
        "\n",
        "\n",
        "\n"
      ],
      "metadata": {
        "id": "koVemFlKdwbx"
      }
    },
    {
      "cell_type": "code",
      "source": [
        "from pgmpy.models import BayesianNetwork\n",
        "from pgmpy.factors.discrete import TabularCPD\n",
        "\n",
        "# Define the Bayesian Network Structure\n",
        "model = BayesianNetwork([\n",
        "    ('Age', 'Heart Disease'),\n",
        "    ('Smoking', 'Heart Disease'),\n",
        "    ('Exercise', 'Heart Disease'),\n",
        "    ('Cholesterol', 'Heart Disease'),\n",
        "    ('Blood Pressure', 'Heart Disease'),\n",
        "    ('Heart Disease', 'Chest Pain'),\n",
        "    ('Heart Disease', 'ECG Result')\n",
        "])\n",
        "\n",
        "# Define CPDs for each variable\n",
        "\n",
        "# Age distribution\n",
        "cpd_age = TabularCPD(variable='Age', variable_card=3,\n",
        "                    values=[[0.4], [0.4], [0.2]])  # Young, Middle-aged, Old\n",
        "\n",
        "# Smoking status\n",
        "cpd_smoking = TabularCPD(variable='Smoking', variable_card=2,\n",
        "                        values=[[0.7], [0.3]])  # No, Yes\n",
        "\n",
        "# Exercise habits\n",
        "cpd_exercise = TabularCPD(variable='Exercise', variable_card=2,\n",
        "                          values=[[0.6], [0.4]])  # Regular, None\n",
        "\n",
        "# Cholesterol levels\n",
        "cpd_cholesterol = TabularCPD(variable='Cholesterol', variable_card=2,\n",
        "                             values=[[0.5], [0.5]])  # Normal, High\n",
        "\n",
        "# Blood Pressure levels\n",
        "cpd_blood_pressure = TabularCPD(variable='Blood Pressure', variable_card=2,\n",
        "                                values=[[0.65], [0.35]])  # Normal, High\n",
        "\n",
        "# CPD for Heart Disease based on risk factors\n",
        "cdp_heart_disease = TabularCPD(\n",
        "    variable='Heart Disease',\n",
        "    variable_card=2,\n",
        "    values=[\n",
        "        # Probabilities for Heart Disease = No (0)\n",
        "        [\n",
        "            # No Heart Disease probabilities based on combinations of parents\n",
        "            0.9, 0.7, 0.6, 0.5,  # Young, No Smoking, Regular Exercise, Normal Cholesterol, Normal BP\n",
        "            0.8, 0.6, 0.4, 0.3,  # Young, No Smoking, Regular Exercise, High Cholesterol, Normal BP\n",
        "            0.7, 0.5, 0.4, 0.3,  # Young, No Smoking, None Exercise, Normal Cholesterol, Normal BP\n",
        "            0.6, 0.4, 0.3, 0.2,  # Young, No Smoking, None Exercise, High Cholesterol, Normal BP\n",
        "            # Middle-aged scenarios (8 combinations)\n",
        "            0.5, 0.4, 0.3, 0.2,\n",
        "            0.4, 0.3, 0.2, 0.1,\n",
        "            # Old scenarios (8 combinations)\n",
        "            0.3, 0.2,\n",
        "            0.1,\n",
        "        ],\n",
        "\n",
        "        # Probabilities for Heart Disease = Yes (1)\n",
        "        [\n",
        "            # Yes Heart Disease probabilities based on combinations of parents\n",
        "            0.1, 0.3, 0.4,\n",
        "            0.5,\n",
        "            # Middle-aged scenarios (8 combinations)\n",
        "            0.5,\n",
        "            # Old scenarios (8 combinations)\n",
        "            0.7,\n",
        "        ]\n",
        "    ],\n",
        "    evidence=['Age', 'Smoking', 'Exercise', 'Cholesterol', 'Blood Pressure'],\n",
        "    evidence_card=[3, 2, 2, 2] # Adjust based on your variable cardinalities\n",
        ")\n",
        "\n",
        "# Add all CPDs to the model\n",
        "model.add_cpds(cpd_age,\n",
        "               cpd_smoking,\n",
        "               cpd_exercise,\n",
        "               cpd_cholesterol,\n",
        "               cpd_blood_pressure,\n",
        "               cpd_heart_disease)\n",
        "\n",
        "# Verify the model\n",
        "assert model.check_model()\n",
        "print(\"All CPDs added successfully and model verified.\")\n"
      ],
      "metadata": {
        "colab": {
          "base_uri": "https://localhost:8080/",
          "height": 332
        },
        "id": "DZAAdnX_dgPg",
        "outputId": "8efe87bd-4191-41ba-87c6-aed0e3545e41"
      },
      "execution_count": null,
      "outputs": [
        {
          "output_type": "error",
          "ename": "ValueError",
          "evalue": "Length of evidence_card doesn't match length of evidence",
          "traceback": [
            "\u001b[0;31m---------------------------------------------------------------------------\u001b[0m",
            "\u001b[0;31mValueError\u001b[0m                                Traceback (most recent call last)",
            "\u001b[0;32m<ipython-input-40-2782f82b7754>\u001b[0m in \u001b[0;36m<cell line: 38>\u001b[0;34m()\u001b[0m\n\u001b[1;32m     36\u001b[0m \u001b[0;34m\u001b[0m\u001b[0m\n\u001b[1;32m     37\u001b[0m \u001b[0;31m# CPD for Heart Disease based on risk factors\u001b[0m\u001b[0;34m\u001b[0m\u001b[0;34m\u001b[0m\u001b[0m\n\u001b[0;32m---> 38\u001b[0;31m cdp_heart_disease = TabularCPD(\n\u001b[0m\u001b[1;32m     39\u001b[0m     \u001b[0mvariable\u001b[0m\u001b[0;34m=\u001b[0m\u001b[0;34m'Heart Disease'\u001b[0m\u001b[0;34m,\u001b[0m\u001b[0;34m\u001b[0m\u001b[0;34m\u001b[0m\u001b[0m\n\u001b[1;32m     40\u001b[0m     \u001b[0mvariable_card\u001b[0m\u001b[0;34m=\u001b[0m\u001b[0;36m2\u001b[0m\u001b[0;34m,\u001b[0m\u001b[0;34m\u001b[0m\u001b[0;34m\u001b[0m\u001b[0m\n",
            "\u001b[0;32m/usr/local/lib/python3.10/dist-packages/pgmpy/factors/discrete/CPD.py\u001b[0m in \u001b[0;36m__init__\u001b[0;34m(self, variable, variable_card, values, evidence, evidence_card, state_names)\u001b[0m\n\u001b[1;32m    121\u001b[0m             \u001b[0mvariables\u001b[0m\u001b[0;34m.\u001b[0m\u001b[0mextend\u001b[0m\u001b[0;34m(\u001b[0m\u001b[0mevidence\u001b[0m\u001b[0;34m)\u001b[0m\u001b[0;34m\u001b[0m\u001b[0;34m\u001b[0m\u001b[0m\n\u001b[1;32m    122\u001b[0m             \u001b[0;32mif\u001b[0m \u001b[0;32mnot\u001b[0m \u001b[0mlen\u001b[0m\u001b[0;34m(\u001b[0m\u001b[0mevidence_card\u001b[0m\u001b[0;34m)\u001b[0m \u001b[0;34m==\u001b[0m \u001b[0mlen\u001b[0m\u001b[0;34m(\u001b[0m\u001b[0mevidence\u001b[0m\u001b[0;34m)\u001b[0m\u001b[0;34m:\u001b[0m\u001b[0;34m\u001b[0m\u001b[0;34m\u001b[0m\u001b[0m\n\u001b[0;32m--> 123\u001b[0;31m                 raise ValueError(\n\u001b[0m\u001b[1;32m    124\u001b[0m                     \u001b[0;34m\"Length of evidence_card doesn't match length of evidence\"\u001b[0m\u001b[0;34m\u001b[0m\u001b[0;34m\u001b[0m\u001b[0m\n\u001b[1;32m    125\u001b[0m                 )\n",
            "\u001b[0;31mValueError\u001b[0m: Length of evidence_card doesn't match length of evidence"
          ]
        }
      ]
    },
    {
      "cell_type": "markdown",
      "source": [
        "# Exercise 4: Inference in the Bayesian Network"
      ],
      "metadata": {
        "id": "P9680Fzjd9IE"
      }
    },
    {
      "cell_type": "markdown",
      "source": [
        "1. Perform Probabilistic Inference:\n",
        "2. Posterior Probability Analysis:"
      ],
      "metadata": {
        "id": "xUD4En_5eUvJ"
      }
    },
    {
      "cell_type": "code",
      "source": [
        "from pgmpy.models import BayesianNetwork\n",
        "from pgmpy.factors.discrete import TabularCPD\n",
        "from pgmpy.inference import VariableElimination\n",
        "\n",
        "# Define the Bayesian Network Structure\n",
        "model = BayesianNetwork([\n",
        "    ('Age', 'Heart Disease'),\n",
        "    ('Smoking', 'Heart Disease'),\n",
        "    ('Exercise', 'Heart Disease'),\n",
        "    ('Cholesterol', 'Heart Disease'),\n",
        "    ('Blood Pressure', 'Heart Disease'),\n",
        "    ('Heart Disease', 'Chest Pain'),\n",
        "    ('Heart Disease', 'ECG Result')\n",
        "])\n",
        "\n",
        "# Define CPDs for each variable\n",
        "\n",
        "# Age distribution\n",
        "cpd_age = TabularCPD(variable='Age', variable_card=3,\n",
        "                    values=[[0.4], [0.4], [0.2]])  # Young, Middle-aged, Old\n",
        "\n",
        "# Smoking status\n",
        "cpd_smoking = TabularCPD(variable='Smoking', variable_card=2,\n",
        "                        values=[[0.7], [0.3]])  # No, Yes\n",
        "\n",
        "# Exercise habits\n",
        "cpd_exercise = TabularCPD(variable='Exercise', variable_card=2,\n",
        "                          values=[[0.6], [0.4]])  # Regular, None\n",
        "\n",
        "# Cholesterol levels\n",
        "cpd_cholesterol = TabularCPD(variable='Cholesterol', variable_card=2,\n",
        "                             values=[[0.5], [0.5]])  # Normal, High\n",
        "\n",
        "# Blood Pressure levels\n",
        "cpd_blood_pressure = TabularCPD(variable='Blood Pressure', variable_card=2,\n",
        "                                values=[[0.65], [0.35]])  # Normal, High\n",
        "\n",
        "# Correct CPD for Heart Disease based on risk factors\n",
        "cpd_heart_disease = TabularCPD(\n",
        "    variable='Heart Disease',\n",
        "    variable_card=2,\n",
        "    values=[\n",
        "        # Probabilities for Heart Disease = No (0)\n",
        "        [0.9, 0.8, 0.7, 0.6, 0.5, 0.4, 0.3, 0.2, 0.1, 0.8, 0.6, 0.4, 0.3, 0.5, 0.4, 0.2, 0.1, 0.9, 0.7, 0.5, 0.4, 0.3, 0.2, 0.1, 0.6, 0.5, 0.4, 0.3, 0.2, 0.1],\n",
        "        # Probabilities for Heart Disease = Yes (1) - corrected to have the same length as the first sub-array\n",
        "        [0.1, 0.2, 0.3, 0.4, 0.5, 0.6, 0.7, 0.8, 0.9, 0.2, 0.4, 0.6, 0.7, 0.5, 0.6, 0.8, 0.9, 0.1, 0.3, 0.5, 0.6, 0.7, 0.8, 0.9, 0.4, 0.5, 0.6, 0.7, 0.8, 0.9]\n",
        "    ],\n",
        "    evidence=['Age', 'Smoking', 'Exercise', 'Cholesterol', 'Blood Pressure'],\n",
        "    evidence_card=[3, 2, 2, 2, 2]\n",
        ")\n",
        "\n",
        "# CPD for Chest Pain given Heart Disease\n",
        "cpd_chest_pain = TabularCPD(\n",
        "    variable='Chest Pain',\n",
        "    variable_card=2,\n",
        "    values=[[0.8, 0.4], [0.2, 0.6]],\n",
        "    evidence=['Heart Disease'],\n",
        "    evidence_card=[2]\n",
        ")\n",
        "\n",
        "# Add CPDs to the model\n",
        "model.add_cpds(cpd_age,\n",
        "               cpd_smoking,\n",
        "               cpd_exercise,\n",
        "               cpd_cholesterol,\n",
        "               cpd_blood_pressure,\n",
        "               cpd_heart_disease,\n",
        "               cpd_chest_pain)\n",
        "\n",
        "# Verify the model\n",
        "assert model.check_model()\n",
        "print(\"All CPDs added successfully and model verified.\")\n",
        "\n",
        "# Create an inference object\n",
        "inference = VariableElimination(model)\n",
        "\n",
        "# Define evidence for querying Heart Disease probability\n",
        "evidence = {\n",
        "    'Age': 1,            # Middle-aged (1)\n",
        "    'Smoking': 1,        # Yes (1)\n",
        "    'Cholesterol': 1,    # High (1)\n",
        "    'Blood Pressure': 1   # High (1)\n",
        "}\n",
        "\n",
        "# Query the probability of Heart Disease given the conditions\n",
        "prob_heart_disease = inference.query(variables=['Heart Disease'], evidence=evidence)\n",
        "print(\"Probability of Heart Disease given the conditions:\")\n",
        "print(prob_heart_disease)"
      ],
      "metadata": {
        "colab": {
          "base_uri": "https://localhost:8080/",
          "height": 332
        },
        "id": "BbCBDliqdo0b",
        "outputId": "82906255-b3a8-45a2-a2c1-894c98081810"
      },
      "execution_count": null,
      "outputs": [
        {
          "output_type": "error",
          "ename": "ValueError",
          "evalue": "values must be of shape (2, 48). Got shape: (2, 30)",
          "traceback": [
            "\u001b[0;31m---------------------------------------------------------------------------\u001b[0m",
            "\u001b[0;31mValueError\u001b[0m                                Traceback (most recent call last)",
            "\u001b[0;32m<ipython-input-36-c004e34f3f7e>\u001b[0m in \u001b[0;36m<cell line: 39>\u001b[0;34m()\u001b[0m\n\u001b[1;32m     37\u001b[0m \u001b[0;34m\u001b[0m\u001b[0m\n\u001b[1;32m     38\u001b[0m \u001b[0;31m# Correct CPD for Heart Disease based on risk factors\u001b[0m\u001b[0;34m\u001b[0m\u001b[0;34m\u001b[0m\u001b[0m\n\u001b[0;32m---> 39\u001b[0;31m cpd_heart_disease = TabularCPD(\n\u001b[0m\u001b[1;32m     40\u001b[0m     \u001b[0mvariable\u001b[0m\u001b[0;34m=\u001b[0m\u001b[0;34m'Heart Disease'\u001b[0m\u001b[0;34m,\u001b[0m\u001b[0;34m\u001b[0m\u001b[0;34m\u001b[0m\u001b[0m\n\u001b[1;32m     41\u001b[0m     \u001b[0mvariable_card\u001b[0m\u001b[0;34m=\u001b[0m\u001b[0;36m2\u001b[0m\u001b[0;34m,\u001b[0m\u001b[0;34m\u001b[0m\u001b[0;34m\u001b[0m\u001b[0m\n",
            "\u001b[0;32m/usr/local/lib/python3.10/dist-packages/pgmpy/factors/discrete/CPD.py\u001b[0m in \u001b[0;36m__init__\u001b[0;34m(self, variable, variable_card, values, evidence, evidence_card, state_names)\u001b[0m\n\u001b[1;32m    140\u001b[0m             \u001b[0mexpected_cpd_shape\u001b[0m \u001b[0;34m=\u001b[0m \u001b[0;34m(\u001b[0m\u001b[0mvariable_card\u001b[0m\u001b[0;34m,\u001b[0m \u001b[0mnp\u001b[0m\u001b[0;34m.\u001b[0m\u001b[0mprod\u001b[0m\u001b[0;34m(\u001b[0m\u001b[0mevidence_card\u001b[0m\u001b[0;34m)\u001b[0m\u001b[0;34m)\u001b[0m\u001b[0;34m\u001b[0m\u001b[0;34m\u001b[0m\u001b[0m\n\u001b[1;32m    141\u001b[0m         \u001b[0;32mif\u001b[0m \u001b[0mvalues\u001b[0m\u001b[0;34m.\u001b[0m\u001b[0mshape\u001b[0m \u001b[0;34m!=\u001b[0m \u001b[0mexpected_cpd_shape\u001b[0m\u001b[0;34m:\u001b[0m\u001b[0;34m\u001b[0m\u001b[0;34m\u001b[0m\u001b[0m\n\u001b[0;32m--> 142\u001b[0;31m             raise ValueError(\n\u001b[0m\u001b[1;32m    143\u001b[0m                 \u001b[0;34mf\"values must be of shape {expected_cpd_shape}. Got shape: {values.shape}\"\u001b[0m\u001b[0;34m\u001b[0m\u001b[0;34m\u001b[0m\u001b[0m\n\u001b[1;32m    144\u001b[0m             )\n",
            "\u001b[0;31mValueError\u001b[0m: values must be of shape (2, 48). Got shape: (2, 30)"
          ]
        }
      ]
    },
    {
      "cell_type": "markdown",
      "source": [
        "# Exercise 5: Parameter Learning from Simulated Data"
      ],
      "metadata": {
        "id": "a1Mtx1QzfbP3"
      }
    },
    {
      "cell_type": "markdown",
      "source": [
        "1. Simulate a Healthcare Dataset:"
      ],
      "metadata": {
        "id": "Sk367pm2fzOm"
      }
    },
    {
      "cell_type": "code",
      "source": [
        "import numpy as np\n",
        "import pandas as pd\n",
        "\n",
        "# Set random seed for reproducibility\n",
        "np.random.seed(42)\n",
        "\n",
        "# Number of samples\n",
        "n_samples = 1000\n",
        "\n",
        "# Simulate Age (0: Young, 1: Middle-aged, 2: Old)\n",
        "age = np.random.choice([0, 1, 2], size=n_samples, p=[0.4, 0.4, 0.2])\n",
        "\n",
        "# Simulate Smoking (0: No, 1: Yes)\n",
        "smoking = np.random.choice([0, 1], size=n_samples, p=[0.7, 0.3])\n",
        "\n",
        "# Simulate Exercise (0: Regular, 1: None)\n",
        "exercise = np.random.choice([0, 1], size=n_samples, p=[0.6, 0.4])\n",
        "\n",
        "# Simulate Cholesterol (0: Normal, 1: High)\n",
        "cholesterol = np.random.choice([0, 1], size=n_samples, p=[0.5, 0.5])\n",
        "\n",
        "# Simulate Blood Pressure (0: Normal, 1: High)\n",
        "blood_pressure = np.random.choice([0, 1], size=n_samples, p=[0.65, 0.35])\n",
        "\n",
        "# Calculate Heart Disease based on dependencies\n",
        "heart_disease_prob = []\n",
        "\n",
        "for i in range(n_samples):\n",
        "    # Simple model to reflect dependencies\n",
        "    probability = (age[i] * 0.1 + smoking[i] * 0.3 + exercise[i] * (-0.2) +\n",
        "                   cholesterol[i] * 0.2 + blood_pressure[i] * 0.3)\n",
        "    heart_disease_prob.append(np.random.binomial(1, min(max(probability / 1.5, 0), 1)))\n",
        "\n",
        "heart_disease = np.array(heart_disease_prob)\n",
        "\n",
        "# Simulate Chest Pain (depends on Heart Disease)\n",
        "chest_pain = np.array([np.random.binomial(1, 0.8 if hd == 1 else 0.4) for hd in heart_disease])\n",
        "\n",
        "# Simulate ECG Result (depends on Heart Disease)\n",
        "ecg_result = np.array([np.random.binomial(1, 0.9 if hd == 1 else 0.5) for hd in heart_disease])\n",
        "\n",
        "# Create DataFrame\n",
        "data = pd.DataFrame({\n",
        "    'Age': age,\n",
        "    'Smoking': smoking,\n",
        "    'Exercise': exercise,\n",
        "    'Cholesterol': cholesterol,\n",
        "    'Blood Pressure': blood_pressure,\n",
        "    'Heart Disease': heart_disease,\n",
        "    'Chest Pain': chest_pain,\n",
        "    'ECG Result': ecg_result\n",
        "})\n",
        "\n",
        "print(\"Synthetic healthcare dataset created successfully.\")"
      ],
      "metadata": {
        "colab": {
          "base_uri": "https://localhost:8080/"
        },
        "id": "JoPrJNaTfbkj",
        "outputId": "8fb23885-7d61-4509-a63c-8dd442f1d87c"
      },
      "execution_count": null,
      "outputs": [
        {
          "output_type": "stream",
          "name": "stdout",
          "text": [
            "Synthetic healthcare dataset created successfully.\n"
          ]
        }
      ]
    },
    {
      "cell_type": "markdown",
      "source": [
        "2. Estimate Parameters:\n",
        "\n"
      ],
      "metadata": {
        "id": "ODpC88CIfeAX"
      }
    },
    {
      "cell_type": "code",
      "source": [
        "from pgmpy.estimators import MaximumLikelihoodEstimator\n",
        "\n",
        "# Create a new Bayesian Network model\n",
        "model_learned = BayesianNetwork([\n",
        "    ('Age', 'Heart Disease'),\n",
        "    ('Smoking', 'Heart Disease'),\n",
        "    ('Exercise', 'Heart Disease'),\n",
        "    ('Cholesterol', 'Heart Disease'),\n",
        "    ('Blood Pressure', 'Heart Disease'),\n",
        "    ('Heart Disease', 'Chest Pain'),\n",
        "    ('Heart Disease', 'ECG Result')\n",
        "])\n",
        "\n",
        "# Fit the model using Maximum Likelihood Estimation\n",
        "model_learned.fit(data)\n",
        "\n",
        "# Print learned parameters for Heart Disease\n",
        "print(\"Learned CPT for Heart Disease:\")\n",
        "cpd = model_learned.get_cpds('Heart Disease') # remove for loop\n",
        "print(cpd)\n",
        "\n",
        "# Print learned parameters for Chest Pain\n",
        "print(\"\\nLearned CPT for Chest Pain:\")\n",
        "cpd = model_learned.get_cpds('Chest Pain') # remove for loop\n",
        "print(cpd)\n",
        "\n",
        "# Print learned parameters for ECG Result\n",
        "print(\"\\nLearned CPT for ECG Result:\")\n",
        "cpd = model_learned.get_cpds('ECG Result') # remove for loop\n",
        "print(cpd)"
      ],
      "metadata": {
        "colab": {
          "base_uri": "https://localhost:8080/"
        },
        "id": "aF5I7g3vfek9",
        "outputId": "f76b1d99-225d-4ab3-922e-35efef139983"
      },
      "execution_count": null,
      "outputs": [
        {
          "output_type": "stream",
          "name": "stdout",
          "text": [
            "Learned CPT for Heart Disease:\n",
            "+------------------+-------------------+-----+--------------------+---------------------+\n",
            "| Age              | Age(0)            | ... | Age(2)             | Age(2)              |\n",
            "+------------------+-------------------+-----+--------------------+---------------------+\n",
            "| Blood Pressure   | Blood Pressure(0) | ... | Blood Pressure(1)  | Blood Pressure(1)   |\n",
            "+------------------+-------------------+-----+--------------------+---------------------+\n",
            "| Cholesterol      | Cholesterol(0)    | ... | Cholesterol(1)     | Cholesterol(1)      |\n",
            "+------------------+-------------------+-----+--------------------+---------------------+\n",
            "| Exercise         | Exercise(0)       | ... | Exercise(1)        | Exercise(1)         |\n",
            "+------------------+-------------------+-----+--------------------+---------------------+\n",
            "| Smoking          | Smoking(0)        | ... | Smoking(0)         | Smoking(1)          |\n",
            "+------------------+-------------------+-----+--------------------+---------------------+\n",
            "| Heart Disease(0) | 1.0               | ... | 0.3333333333333333 | 0.42857142857142855 |\n",
            "+------------------+-------------------+-----+--------------------+---------------------+\n",
            "| Heart Disease(1) | 0.0               | ... | 0.6666666666666666 | 0.5714285714285714  |\n",
            "+------------------+-------------------+-----+--------------------+---------------------+\n",
            "\n",
            "Learned CPT for Chest Pain:\n",
            "+---------------+--------------------+--------------------+\n",
            "| Heart Disease | Heart Disease(0)   | Heart Disease(1)   |\n",
            "+---------------+--------------------+--------------------+\n",
            "| Chest Pain(0) | 0.6309823677581864 | 0.2766990291262136 |\n",
            "+---------------+--------------------+--------------------+\n",
            "| Chest Pain(1) | 0.3690176322418136 | 0.7233009708737864 |\n",
            "+---------------+--------------------+--------------------+\n",
            "\n",
            "Learned CPT for ECG Result:\n",
            "+---------------+--------------------+--------------------+\n",
            "| Heart Disease | Heart Disease(0)   | Heart Disease(1)   |\n",
            "+---------------+--------------------+--------------------+\n",
            "| ECG Result(0) | 0.5251889168765743 | 0.0825242718446602 |\n",
            "+---------------+--------------------+--------------------+\n",
            "| ECG Result(1) | 0.4748110831234257 | 0.9174757281553398 |\n",
            "+---------------+--------------------+--------------------+\n"
          ]
        }
      ]
    },
    {
      "cell_type": "markdown",
      "source": [
        "# Exercise 6: Network Visualization and Analysis\n"
      ],
      "metadata": {
        "id": "jmOouyVogEk8"
      }
    },
    {
      "cell_type": "markdown",
      "source": [
        "1. Visualize the Network:"
      ],
      "metadata": {
        "id": "6G-Og-yfgVEu"
      }
    },
    {
      "cell_type": "code",
      "source": [
        "import matplotlib.pyplot as plt\n",
        "import networkx as nx\n",
        "\n",
        "# Create a directed graph from the Bayesian Network model\n",
        "nx_graph = nx.DiGraph(model.edges())\n",
        "\n",
        "# Draw the network\n",
        "plt.figure(figsize=(10, 8))\n",
        "pos = nx.spring_layout(nx_graph)  # Positioning of nodes\n",
        "nx.draw(nx_graph, pos, with_labels=True, arrows=True, node_size=3000, node_color='lightblue', font_size=10, font_weight='bold')\n",
        "plt.title('Bayesian Network for Heart Disease Diagnosis')\n",
        "plt.show()"
      ],
      "metadata": {
        "colab": {
          "base_uri": "https://localhost:8080/",
          "height": 859
        },
        "id": "X4v0AnwAgQS7",
        "outputId": "81165dfd-18d5-4bc1-d1cd-6530d64d3b65"
      },
      "execution_count": null,
      "outputs": [
        {
          "output_type": "display_data",
          "data": {
            "text/plain": [
              "<Figure size 1000x800 with 1 Axes>"
            ],
            "image/png": "[encoded data removed]"
          },
          "metadata": {}
        }
      ]
    },
    {
      "cell_type": "markdown",
      "source": [
        "2. Sensitivity Analysis:"
      ],
      "metadata": {
        "id": "TnM5naVcgf08"
      }
    },
    {
      "cell_type": "code",
      "source": [
        "# Function to perform sensitivity analysis on Smoking\n",
        "def sensitivity_analysis_smoking(smoking_probabilities):\n",
        "    results = {}\n",
        "    for prob in smoking_probabilities:\n",
        "        # Check if the CPD exists before accessing it\n",
        "        cpd = model.get_cpds('Smoking')\n",
        "        if cpd:\n",
        "            # Update the prior probability of smoking in the model\n",
        "            cpd.values[0][1] = prob  # Update probability of Smoking = Yes\n",
        "            cpd.values[0][0] = 1 - prob  # Update probability of Smoking = No\n",
        "\n",
        "            # Query the probability of Heart Disease given updated Smoking probability\n",
        "            prob_heart_disease = inference.query(variables=['Heart Disease'], evidence={'Age': 1, 'Cholesterol': 1, 'Blood Pressure': 1})\n",
        "            results[prob] = prob_heart_disease.values[1]  # Probability of Heart Disease = Yes\n",
        "        else:\n",
        "            print(f\"CPD 'Smoking' not found in the model.\") # Print message if CPD not found\n",
        "            return None # Return None if CPD not found\n",
        "\n",
        "    return results\n",
        "\n",
        "# Define a range of probabilities for Smoking\n",
        "smoking_probabilities = np.linspace(0.0, 1.0, num=11)  # From 0% to 100%\n",
        "sensitivity_results = sensitivity_analysis_smoking(smoking_probabilities)\n",
        "\n",
        "# Display results\n",
        "if sensitivity_results: # Check if sensitivity_results is not None\n",
        "    for prob, heart_disease_prob in sensitivity_results.items():\n",
        "        print(f\"Probability of Smoking: {prob:.2f}, Probability of Heart Disease: {heart_disease_prob:.2f}\")"
      ],
      "metadata": {
        "colab": {
          "base_uri": "https://localhost:8080/"
        },
        "id": "uLiXPRXogiN8",
        "outputId": "7507835d-dbc7-478b-f15e-bd2651ca53b3"
      },
      "execution_count": null,
      "outputs": [
        {
          "output_type": "stream",
          "name": "stdout",
          "text": [
            "CPD 'Smoking' not found in the model.\n"
          ]
        }
      ]
    }
  ]
}