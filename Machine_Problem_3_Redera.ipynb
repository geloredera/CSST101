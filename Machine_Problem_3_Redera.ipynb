{
  "nbformat": 4,
  "nbformat_minor": 0,
  "metadata": {
    "colab": {
      "provenance": []
    },
    "kernelspec": {
      "name": "python3",
      "display_name": "Python 3"
    },
    "language_info": {
      "name": "python"
    }
  },
  "cells": [
    {
      "cell_type": "markdown",
      "source": [
        "## P1\n"
      ],
      "metadata": {
        "id": "sv01XEaBl0e3"
      }
    },
    {
      "cell_type": "code",
      "execution_count": 1,
      "metadata": {
        "id": "apqQY0JLjWA9"
      },
      "outputs": [],
      "source": [
        "import numpy as np"
      ]
    },
    {
      "cell_type": "code",
      "source": [
        "def joint_probability(p_a, p_b):\n",
        "    return p_a * p_b\n",
        "\n",
        "# Function to calculate marginal probability\n",
        "def marginal_probability(joint_probs):\n",
        "    return np.sum(joint_probs)\n",
        "\n",
        "# Function to calculate conditional probability using Bayes' Theorem\n",
        "def conditional_probability(p_a_given_b, p_b):\n",
        "    return p_a_given_b * p_b\n",
        "\n",
        "# Interactive component\n",
        "def main():\n",
        "    print(\"Enter the probabilities for two independent events A and B.\")\n",
        "    p_a = float(input(\"Probability of event A (P(A)): \"))\n",
        "    p_b = float(input(\"Probability of event B (P(B)): \"))\n",
        "\n",
        "    # Calculate joint probability\n",
        "    p_a_and_b = joint_probability(p_a, p_b)\n",
        "    print(f\"Joint Probability P(A and B): {p_a_and_b}\")\n",
        "\n",
        "    # For marginal probability, we need joint probabilities of all possible events\n",
        "    # Assuming we have joint probabilities for simplicity\n",
        "    joint_probs = np.array([p_a_and_b, (1-p_a)*p_b, p_a*(1-p_b), (1-p_a)*(1-p_b)])\n",
        "    p_a_marginal = marginal_probability(joint_probs)\n",
        "    print(f\"Marginal Probability P(A): {p_a_marginal}\")\n",
        "\n",
        "    # Calculate conditional probability P(A|B)\n",
        "    p_a_given_b = p_a_and_b / p_b\n",
        "    print(f\"Conditional Probability P(A|B): {p_a_given_b}\")\n",
        "\n",
        "if __name__ == \"__main__\":\n",
        "    main()"
      ],
      "metadata": {
        "colab": {
          "base_uri": "https://localhost:8080/"
        },
        "id": "ViaP-OuLksc3",
        "outputId": "a0682e1d-d529-4227-9ba6-0e83e758bc49"
      },
      "execution_count": null,
      "outputs": [
        {
          "output_type": "stream",
          "name": "stdout",
          "text": [
            "Enter the probabilities for two independent events A and B.\n"
          ]
        }
      ]
    },
    {
      "cell_type": "markdown",
      "source": [
        "# P2"
      ],
      "metadata": {
        "id": "vK6gQryMl7nE"
      }
    },
    {
      "cell_type": "code",
      "source": [
        "import numpy as np\n"
      ],
      "metadata": {
        "id": "753xOKWbl-eS"
      },
      "execution_count": null,
      "outputs": []
    },
    {
      "cell_type": "code",
      "source": [
        "def bayesian_inference(prior, likelihood, evidence):\n",
        "    return (likelihood * prior) / evidence\n",
        "\n",
        "# Function to prompt user for input and calculate posterior probability\n",
        "def main():\n",
        "    print(\"Bayesian Inference for Medical Diagnosis\")\n",
        "\n",
        "    # Prompt user for input\n",
        "    prior = float(input(\"Enter the prior probability of having the disease (e.g., 0.01 for 1%): \"))\n",
        "    likelihood = float(input(\"Enter the likelihood of a positive test given the disease (e.g., 0.99 for 99%): \"))\n",
        "    evidence = float(input(\"Enter the overall probability of a positive test (e.g., 0.05 for 5%): \"))\n",
        "\n",
        "    # Calculate posterior probability\n",
        "    posterior = bayesian_inference(prior, likelihood, evidence)\n",
        "\n",
        "    # Display the result\n",
        "    print(f\"The posterior probability of having the disease after a positive test result is: {posterior:.4f}\")\n",
        "\n",
        "# Run the main function\n",
        "if __name__ == \"__main__\":\n",
        "    main()"
      ],
      "metadata": {
        "id": "gauXzsVel_nE"
      },
      "execution_count": null,
      "outputs": []
    },
    {
      "cell_type": "markdown",
      "source": [
        "# P3"
      ],
      "metadata": {
        "id": "D4DhJ4yzmIgE"
      }
    },
    {
      "cell_type": "code",
      "source": [
        "import numpy as np"
      ],
      "metadata": {
        "id": "zcWelK9bmooW"
      },
      "execution_count": null,
      "outputs": []
    },
    {
      "cell_type": "code",
      "source": [
        "\n",
        "\n",
        "def simulate_decision(prob_success, reward, penalty, trials):\n",
        "    results = []\n",
        "    for _ in range(trials):\n",
        "        if np.random.rand() < prob_success:\n",
        "            results.append(reward)\n",
        "        else:\n",
        "            results.append(penalty)\n",
        "    average_return = np.mean(results)\n",
        "    return average_return\n",
        "\n",
        "# Interactive component\n",
        "def main():\n",
        "    prob_success = float(input(\"Enter the probability of success (0 to 1): \"))\n",
        "    reward = float(input(\"Enter the reward amount for success: \"))\n",
        "    penalty = float(input(\"Enter the penalty amount for failure: \"))\n",
        "    trials = int(input(\"Enter the number of trials: \"))\n",
        "\n",
        "    average_return = simulate_decision(prob_success, reward, penalty, trials)\n",
        "    print(f\"Average return after {trials} trials: {average_return}\")\n",
        "\n",
        "    while True:\n",
        "        adjust_prob = input(\"Do you want to adjust the probability and observe the outcome? (yes/no): \").strip().lower()\n",
        "        if adjust_prob == 'yes':\n",
        "            prob_success = float(input(\"Enter the new probability of success (0 to 1): \"))\n",
        "            average_return = simulate_decision(prob_success, reward, penalty, trials)\n",
        "            print(f\"Average return after {trials} trials with new probability: {average_return}\")\n",
        "        else:\n",
        "            break\n",
        "\n",
        "# Run the main function\n",
        "if __name__ == \"__main__\":\n",
        "    main()\n"
      ],
      "metadata": {
        "id": "c3gDTOShmmne"
      },
      "execution_count": null,
      "outputs": []
    },
    {
      "cell_type": "markdown",
      "source": [
        "# P4"
      ],
      "metadata": {
        "id": "C1NgKGrRnEum"
      }
    },
    {
      "cell_type": "code",
      "source": [
        "import numpy as np\n",
        "import matplotlib.pyplot as plt\n",
        "from scipy.stats import binom, norm"
      ],
      "metadata": {
        "id": "Em4efaxInH02"
      },
      "execution_count": null,
      "outputs": []
    },
    {
      "cell_type": "code",
      "source": [
        "def plot_binomial(n, p, size):\n",
        "    data = binom.rvs(n=n, p=p, size=size)\n",
        "    plt.hist(data, bins=range(n+2), edgecolor='black', alpha=0.7)\n",
        "    plt.title('Binomial Distribution')\n",
        "    plt.xlabel('Number of Successes')\n",
        "    plt.ylabel('Frequency')\n",
        "    plt.show()\n",
        "\n",
        "def plot_normal(mean, std, size):\n",
        "    data = norm.rvs(loc=mean, scale=std, size=size)\n",
        "    plt.hist(data, bins=30, edgecolor='black', alpha=0.7)\n",
        "    plt.title('Normal Distribution')\n",
        "    plt.xlabel('Value')\n",
        "    plt.ylabel('Frequency')\n",
        "    plt.show()\n",
        "\n",
        "def main():\n",
        "    choice = input(\"Choose a distribution to simulate (binomial/normal): \").strip().lower()\n",
        "\n",
        "    if choice == 'binomial':\n",
        "        n = int(input(\"Enter the number of trials (e.g., 10 for 10 coin flips): \"))\n",
        "        p = float(input(\"Enter the probability of success (e.g., 0.5 for a fair coin): \"))\n",
        "        size = int(input(\"Enter the number of simulations: \"))\n",
        "        plot_binomial(n, p, size)\n",
        "\n",
        "    elif choice == 'normal':\n",
        "        mean = float(input(\"Enter the mean (e.g., 70 for exam scores): \"))\n",
        "        std = float(input(\"Enter the standard deviation (e.g., 10 for exam scores): \"))\n",
        "        size = int(input(\"Enter the number of simulations: \"))\n",
        "        plot_normal(mean, std, size)\n",
        "\n",
        "    else:\n",
        "        print(\"Invalid choice. Please choose either 'binomial' or 'normal'.\")\n",
        "\n",
        "if __name__ == \"__main__\":\n",
        "    main()"
      ],
      "metadata": {
        "id": "pk2GY5I5nJBm"
      },
      "execution_count": null,
      "outputs": []
    },
    {
      "cell_type": "markdown",
      "source": [
        "# P5"
      ],
      "metadata": {
        "id": "MJ5k6-MUnMY-"
      }
    },
    {
      "cell_type": "code",
      "source": [
        "import numpy as np"
      ],
      "metadata": {
        "id": "2rmJxRF0nOiF"
      },
      "execution_count": null,
      "outputs": []
    },
    {
      "cell_type": "code",
      "source": [
        "def bayes_theorem(pA, pB, pBA):\n",
        "    return (pBA * pA) / pB\n",
        "\n",
        "# Define the probabilities (these are example values, you can adjust them based on real data)\n",
        "pRain = 0.3  # Probability of rain\n",
        "pCloudy = 0.5  # Probability of cloud cover\n",
        "pHumid = 0.6  # Probability of high humidity\n",
        "pCloudyRain = 0.8  # Probability of cloud cover given that it rains\n",
        "pHumidRain = 0.7  # Probability of high humidity given that it rains\n",
        "\n",
        "# Ask the user for input values\n",
        "humidity = float(input(\"Enter the humidity level (0 to 1): \"))\n",
        "cloud_cover = float(input(\"Enter the cloud cover level (0 to 1): \"))\n",
        "\n",
        "# Calculate the probability of rain given the inputs\n",
        "pRainGivenCloudy = bayes_theorem(pRain, pCloudy, pCloudyRain)\n",
        "pRainGivenHumid = bayes_theorem(pRain, pHumid, pHumidRain)\n",
        "\n",
        "# Combine the probabilities (assuming independence)\n",
        "pRainGivenInputs = pRainGivenCloudy * pRainGivenHumid / pRain\n",
        "\n",
        "# Provide feedback to the user\n",
        "print(f\"The probability of rain given the humidity level of {humidity} and cloud cover level of {cloud_cover} is approximately {pRainGivenInputs:.2f}\")\n",
        "\n",
        "# Example usage\n",
        "# humidity = 0.7\n",
        "# cloud_cover = 0.8\n",
        "# The probability of rain given the humidity level of 0.7 and cloud cover level of 0.8 is approximately 0.56"
      ],
      "metadata": {
        "id": "4kswLK7gng2-"
      },
      "execution_count": null,
      "outputs": []
    }
  ]
}